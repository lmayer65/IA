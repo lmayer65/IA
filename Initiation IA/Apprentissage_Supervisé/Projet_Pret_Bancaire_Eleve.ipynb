{
 "cells": [
  {
   "cell_type": "markdown",
   "id": "b090b4e7",
   "metadata": {},
   "source": [
    "\n",
    "# 🏦 Projet NSI – Prédire l'accord d'un prêt bancaire\n",
    "\n",
    "## 🎯 Objectif :\n",
    "Construire un modèle d’intelligence artificielle supervisé capable de prédire si un client obtiendra un **prêt bancaire**, à partir de ses caractéristiques.\n",
    "\n",
    "Un fichier de données contient 2000 clients fictifs avec les informations suivantes :\n",
    "- `salaire` (en €)\n",
    "- `anciennete` (en années)\n",
    "- `dettes` (en €)\n",
    "- `enfants` (nombre d’enfants)\n",
    "- `logement` (locataire ou propriétaire)\n",
    "- `pret_accorde` (Oui ou Non – à prédire)\n"
   ]
  },
  {
   "cell_type": "markdown",
   "id": "d5fb0f04",
   "metadata": {},
   "source": [
    "\n",
    "## 📥 Étape 1 – Chargement des données avec pandas\n",
    "\n",
    "Un fichier CSV contient les données. Il sera lu sous forme de **DataFrame**, une structure de tableau proposée par la bibliothèque `pandas`.\n"
   ]
  },
  {
   "cell_type": "code",
   "execution_count": null,
   "id": "06e815c0",
   "metadata": {},
   "outputs": [],
   "source": [
    "# Installation des bibliothèques\n",
    "!pip install pandas numpy scikit-learn matplotlib"
   ]
  },
  {
   "cell_type": "code",
   "execution_count": null,
   "id": "e2159c67",
   "metadata": {},
   "outputs": [],
   "source": [
    "\n",
    "# Import de la bibliothèque pandas\n",
    "import pandas as pd\n",
    "\n",
    "# Chargement du fichier CSV dans un DataFrame\n",
    "df = pd.read_csv(\"donnees_banque_2000.csv\")\n",
    "\n",
    "# Affichage des 5 premières lignes (pour vérifier)\n",
    "print(df.head())\n"
   ]
  },
  {
   "cell_type": "markdown",
   "id": "0896c099",
   "metadata": {},
   "source": [
    "\n",
    "### 🧠 Remarque :\n",
    "- `df` est un objet de type `DataFrame`.\n",
    "- Il se manipule comme un tableau de données avec des colonnes nommées.\n",
    "- On peut accéder à une colonne avec `df[\"salaire\"]` ou afficher les lignes avec `df.loc[0]`.\n"
   ]
  },
  {
   "cell_type": "markdown",
   "id": "3a7f2325",
   "metadata": {},
   "source": [
    "## 🔄 Étape 2 – Encodage des données"
   ]
  },
  {
   "cell_type": "code",
   "execution_count": null,
   "id": "d54bd0bf",
   "metadata": {},
   "outputs": [],
   "source": [
    "\n",
    "from sklearn.preprocessing import LabelEncoder\n",
    "\n",
    "# Encodage des colonnes catégorielles \n",
    "#################### A COMPLETER #####################\n",
    "\n",
    "# Vérification\n",
    "print(df.head())\n"
   ]
  },
  {
   "cell_type": "markdown",
   "id": "8ab66241",
   "metadata": {},
   "source": [
    "## ✂️ Étape 3 – Séparation des variables"
   ]
  },
  {
   "cell_type": "code",
   "execution_count": null,
   "id": "b3b54c02",
   "metadata": {},
   "outputs": [],
   "source": [
    "\n",
    "# X = variables explicatives / y = variable cible\n",
    "#################### A COMPLETER #####################\n"
   ]
  },
  {
   "cell_type": "markdown",
   "id": "e545f445",
   "metadata": {},
   "source": [
    "\n",
    "## 🧠 Étape 4 – Choix et entraînement du modèle\n",
    "\n",
    "Aucun modèle n’est imposé.  \n",
    "Il faut choisir un **modèle de classification binaire**, puis l’entraîner avec les données `X` et `y`.\n",
    "\n",
    "Quelques exemples possibles (non imposés) :\n",
    "- Régression logistique\n",
    "- Arbre de décision\n",
    "- Forêt aléatoire (Random Forest)\n",
    "- k-plus proches voisins (KNN)\n",
    "\n",
    "➡️ Le modèle choisi doit être **justifié**.\n"
   ]
  },
  {
   "cell_type": "code",
   "execution_count": null,
   "id": "c1718bec",
   "metadata": {},
   "outputs": [],
   "source": [
    "# Choix du modèle et entraînement\n",
    "\n",
    "#################### A COMPLETER #####################\n"
   ]
  },
  {
   "cell_type": "markdown",
   "id": "6d9a1458",
   "metadata": {},
   "source": [
    "## 🔍 Étape 5 – Prédiction pour de nouveaux clients"
   ]
  },
  {
   "cell_type": "code",
   "execution_count": null,
   "id": "dae309c7",
   "metadata": {},
   "outputs": [],
   "source": [
    "# Exemple de bon client (à adapter à l'encodage) :\n",
    "# salaire = 3800 €, ancienneté = 6 ans, dettes = 1000 €, enfants = 1, logement = locataire\n",
    "\n",
    "################# A COMPLETER ########################\n",
    "\n",
    "# Prédiction du modèle\n",
    "prediction = modele.predict(client)\n",
    "print(\"Décision :\", enc_pret.inverse_transform(prediction)[0])\n",
    "\n",
    "\n",
    "# Exemple de mauvais client (à adapter à l'encodage) :\n",
    "# salaire = 2800 €, ancienneté = 6 ans, dettes = 800 €, enfants = 2, logement = locataire\n",
    "\n",
    "################# A COMPLETER ########################\n",
    "\n",
    "# Prédiction du modèle\n",
    "prediction = modele.predict(client)\n",
    "print(\"Décision :\", enc_pret.inverse_transform(prediction)[0])\n"
   ]
  },
  {
   "cell_type": "markdown",
   "id": "cd670ce7",
   "metadata": {},
   "source": [
    "\n",
    "## 📊 Étape 6 – Analyse et interprétation\n",
    "\n",
    "Répondre aux questions suivantes dans des cellules Markdown :\n",
    "\n",
    "1. Quelles variables semblent les plus importantes ?\n",
    "2. Que se passe-t-il si on fait varier le salaire uniquement ?\n",
    "3. Le modèle est-il stable ?\n",
    "4. Quels ajustements pourrait-on apporter pour améliorer le modèle ?\n"
   ]
  }
 ],
 "metadata": {
  "kernelspec": {
   "display_name": "Python 3 (ipykernel)",
   "language": "python",
   "name": "python3"
  },
  "language_info": {
   "codemirror_mode": {
    "name": "ipython",
    "version": 3
   },
   "file_extension": ".py",
   "mimetype": "text/x-python",
   "name": "python",
   "nbconvert_exporter": "python",
   "pygments_lexer": "ipython3",
   "version": "3.9.7"
  }
 },
 "nbformat": 4,
 "nbformat_minor": 5
}
