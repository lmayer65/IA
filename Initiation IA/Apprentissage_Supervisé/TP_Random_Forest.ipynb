{
 "cells": [
  {
   "cell_type": "markdown",
   "id": "8e6b278f",
   "metadata": {},
   "source": [
    "\n",
    "# 🌳 Cours & TPs : Random Forest et Arbres de Décision\n",
    "\n",
    "## 1️⃣ Introduction – Le surapprentissage d’un arbre de décision\n",
    "\n",
    "Un arbre de décision non limité peut **surapprendre** les données, c’est-à-dire mémoriser les points d’apprentissage sans généraliser correctement.\n"
   ]
  },
  {
   "cell_type": "markdown",
   "id": "fba465e5",
   "metadata": {},
   "source": [
    "\n",
    "## 🧪 TP 1 – Arbre de Décision vs Régression Linéaire\n",
    "\n",
    "Nous allons simuler une relation simple `y = x + bruit` et entraîner :\n",
    "- un **arbre de décision** (sans limitation)\n",
    "- une **régression linéaire**\n"
   ]
  },
  {
   "cell_type": "code",
   "execution_count": null,
   "id": "43d87871",
   "metadata": {},
   "outputs": [],
   "source": [
    "# Installation des bibliothèques\n",
    "!pip install pandas numpy scikit-learn matplotlib"
   ]
  },
  {
   "cell_type": "code",
   "execution_count": null,
   "id": "64a54682",
   "metadata": {},
   "outputs": [],
   "source": [
    "\n",
    "import numpy as np\n",
    "import matplotlib.pyplot as plt\n",
    "from sklearn.tree import DecisionTreeRegressor\n",
    "from sklearn.linear_model import LinearRegression\n",
    "\n",
    "np.random.seed(0)\n",
    "X = np.arange(1, 11).reshape(-1, 1)\n",
    "y = X.flatten() + np.random.normal(scale=0.5, size=X.shape[0])\n",
    "\n",
    "tree = DecisionTreeRegressor()\n",
    "tree.fit(X, y)\n",
    "\n",
    "linear = LinearRegression()\n",
    "linear.fit(X, y)\n",
    "\n",
    "X_test = np.linspace(1, 10, 100).reshape(-1, 1)\n",
    "y_tree = tree.predict(X_test)\n",
    "y_linear = linear.predict(X_test)\n",
    "\n",
    "plt.figure(figsize=(10, 6))\n",
    "plt.scatter(X, y, color='black', label=\"Données\")\n",
    "plt.plot(X_test, y_tree, color='red', label=\"Arbre (overfitting)\")\n",
    "plt.plot(X_test, y_linear, color='blue', label=\"Régression linéaire\")\n",
    "plt.title(\"Surapprentissage : Arbre vs Régression\")\n",
    "plt.xlabel(\"x\"); plt.ylabel(\"y\")\n",
    "plt.legend(); plt.grid(True); plt.show()\n"
   ]
  },
  {
   "cell_type": "markdown",
   "id": "c5728826",
   "metadata": {},
   "source": [
    "\n",
    "### ❓ Questions :\n",
    "1. Pourquoi la courbe rouge est-elle irrégulière ?\n",
    "2. Quel modèle suit la tendance globale ?\n",
    "3. Lequel serait plus fiable pour prédire un nouveau point ?\n"
   ]
  },
  {
   "cell_type": "markdown",
   "id": "9bd85921",
   "metadata": {},
   "source": [
    "\n",
    "## 📘 2️⃣ Cours – Algorithme Random Forest\n",
    "\n",
    "Random Forest est un **ensemble d’arbres de décision**, chacun entraîné sur un échantillon **aléatoire** du jeu de données, avec des variables sélectionnées aléatoirement à chaque nœud.\n",
    "\n",
    "### Étapes :\n",
    "1. **Bootstrap** : échantillonnage aléatoire avec répétition\n",
    "2. **Sélection aléatoire de variables**\n",
    "3. **Agrégation** :\n",
    "   - Vote majoritaire (classification)\n",
    "   - Moyenne (régression)\n",
    "\n",
    "### ✅ Avantages :\n",
    "- Moins de surapprentissage\n",
    "- Plus stable et robuste\n",
    "\n",
    "### ⚠️ Inconvénients :\n",
    "- Moins interprétable\n",
    "- Temps de calcul plus long\n"
   ]
  },
  {
   "cell_type": "markdown",
   "id": "bb90165b",
   "metadata": {},
   "source": [
    "\n",
    "## 🧪 TP 2 – Classification : Reconnaître un animal\n",
    "\n",
    "Nous allons utiliser un `RandomForestClassifier` pour prédire si un animal est un **mammifère**, un **poisson** ou un **oiseau**, à partir de ses caractéristiques.\n"
   ]
  },
  {
   "cell_type": "code",
   "execution_count": null,
   "id": "0f8d7df5",
   "metadata": {},
   "outputs": [],
   "source": [
    "\n",
    "import pandas as pd\n",
    "from sklearn.ensemble import RandomForestClassifier\n",
    "from sklearn.preprocessing import LabelEncoder\n",
    "\n",
    "data = pd.DataFrame({\n",
    "    'taille': ['petit', 'moyen', 'grand', 'petit', 'grand', 'moyen'],\n",
    "    'poils': ['oui', 'non', 'non', 'oui', 'non', 'oui'],\n",
    "    'aquatique': ['non', 'oui', 'non', 'non', 'oui', 'non'],\n",
    "    'classe': ['mammifère', 'poisson', 'oiseau', 'mammifère', 'poisson', 'mammifère']\n",
    "})\n",
    "\n",
    "enc_taille = LabelEncoder()\n",
    "enc_poils = LabelEncoder()\n",
    "enc_aqua = LabelEncoder()\n",
    "enc_classe = LabelEncoder()\n",
    "\n",
    "data['taille'] = enc_taille.fit_transform(data['taille'])\n",
    "data['poils'] = enc_poils.fit_transform(data['poils'])\n",
    "data['aquatique'] = enc_aqua.fit_transform(data['aquatique'])\n",
    "data['classe'] = enc_classe.fit_transform(data['classe'])\n",
    "\n",
    "X = data[['taille', 'poils', 'aquatique']]\n",
    "y = data['classe']\n",
    "\n",
    "# Algorithme Random Forest : n_estimators est le nombre d'arbres\n",
    "clf = RandomForestClassifier(n_estimators=10, random_state=0)\n",
    "clf.fit(X, y)\n",
    "\n",
    "# Test d'un nouvel animal \n",
    "nouvel_animal = [[enc_taille.transform(['moyen'])[0],\n",
    "                  enc_poils.transform(['oui'])[0],\n",
    "                  enc_aqua.transform(['non'])[0]]]\n",
    "\n",
    "prediction = clf.predict(nouvel_animal)\n",
    "print(\"Classe prédite :\", enc_classe.inverse_transform(prediction)[0])\n"
   ]
  },
  {
   "cell_type": "markdown",
   "id": "0b4b2ed4",
   "metadata": {},
   "source": [
    "**Remarque** : le code ci-dessous permet de trouver **l'importance de chaque variable. TRES UTILE !**"
   ]
  },
  {
   "cell_type": "code",
   "execution_count": null,
   "id": "79352b1e",
   "metadata": {},
   "outputs": [],
   "source": [
    "import matplotlib.pyplot as plt\n",
    "\n",
    "importances = clf.feature_importances_\n",
    "colonnes = X.columns\n",
    "\n",
    "plt.bar(colonnes, importances)\n",
    "plt.title(\"Importance des variables\")\n",
    "plt.ylabel(\"Importance\")\n",
    "plt.grid(True)\n",
    "plt.show()"
   ]
  },
  {
   "cell_type": "markdown",
   "id": "ed1ff73b",
   "metadata": {},
   "source": [
    "\n",
    "### ❓ Questions :\n",
    "1. Quelle classe est prédite ?\n",
    "2. Tester avec un petit animal, sans poils et non aquatique.\n",
    "3. Pourquoi Random Forest est-elle plus fiable qu’un arbre seul ?\n"
   ]
  },
  {
   "cell_type": "markdown",
   "id": "4c37907f",
   "metadata": {},
   "source": [
    "\n",
    "## 🔁 Activité complémentaire – Influence de `n_estimators`\n",
    "\n",
    "Testons l'effet du nombre d'arbres sur la **précision** et le **temps de calcul**.\n"
   ]
  },
  {
   "cell_type": "code",
   "execution_count": null,
   "id": "6d28fce1",
   "metadata": {},
   "outputs": [],
   "source": [
    "\n",
    "from sklearn.ensemble import RandomForestClassifier\n",
    "import time\n",
    "\n",
    "for n in [1, 5, 10, 100]:\n",
    "    clf = RandomForestClassifier(n_estimators=n, random_state=0)\n",
    "    start = time.time()\n",
    "    clf.fit(X, y)\n",
    "    score = clf.score(X, y)\n",
    "    duration = time.time() - start\n",
    "    print(f\"{n} arbres → Score : {score:.2f} | Temps : {duration:.4f} sec\")\n"
   ]
  },
  {
   "cell_type": "markdown",
   "id": "f4a91212",
   "metadata": {},
   "source": [
    "\n",
    "### 📈 Visualisation de l’évolution du score\n"
   ]
  },
  {
   "cell_type": "code",
   "execution_count": null,
   "id": "6162c02e",
   "metadata": {},
   "outputs": [],
   "source": [
    "# Importation des bibliothèques\n",
    "import numpy as np\n",
    "import pandas as pd\n",
    "import matplotlib.pyplot as plt\n",
    "from sklearn.datasets import make_classification\n",
    "from sklearn.ensemble import RandomForestClassifier\n",
    "\n",
    "# Étape 1 : Génération d'un grand jeu de données\n",
    "# 10000 échantillons, 15 variables, 3 classes\n",
    "X, y = make_classification(n_samples=10000,\n",
    "                           n_features=15,\n",
    "                           n_informative=6,\n",
    "                           n_redundant=2,\n",
    "                           n_classes=3,\n",
    "                           random_state=42) # Permet d'avoir le même jeu de données, on peut mettre un nombre aléatoire. \n",
    "                                            # Mettre 0 sinon.\n",
    "\n",
    "# Étape 2 : Liste des tailles de forêt à tester\n",
    "valeurs = [1, 5, 10, 20, 50, 100, 200, 300]\n",
    "scores = []\n",
    "\n",
    "# Étape 3 : Boucle sur chaque valeur de n_estimators\n",
    "for n in valeurs:\n",
    "    start = time.time()\n",
    "    clf = RandomForestClassifier(n_estimators=n, random_state=0)\n",
    "    clf.fit(X, y)\n",
    "    score = clf.score(X, y)  # Score sur les données d'entraînement\n",
    "    scores.append(score)\n",
    "    duration = time.time() - start\n",
    "    print(f\"{n} arbres → Score : {score:.2f} | Temps : {duration:.4f} sec\")\n",
    "\n",
    "# Étape 4 : Visualisation du score\n",
    "plt.figure(figsize=(8, 5))\n",
    "plt.plot(valeurs, scores, marker='o')\n",
    "plt.title(\"Évolution du score selon le nombre d’arbres (n_estimators)\")\n",
    "plt.xlabel(\"Nombre d’arbres\")\n",
    "plt.ylabel(\"Score sur l’ensemble d’apprentissage\")\n",
    "plt.grid(True)\n",
    "plt.show()\n"
   ]
  },
  {
   "cell_type": "markdown",
   "id": "955699ad",
   "metadata": {},
   "source": [
    "\n",
    "### ❓ Questions :\n",
    "1. À partir de combien d’arbres le score se stabilise-t-il ?\n",
    "2. Le temps de calcul augmente-t-il beaucoup ?\n",
    "3. Quelle valeur serait un bon compromis ?\n"
   ]
  },
  {
   "cell_type": "markdown",
   "id": "f1c50a1c",
   "metadata": {},
   "source": [
    "**Remarque** : il existe `RandomForestRegressor` qui permet de prédire une **valeur** plutôt qu'une classe. Je vous laisse chercher :)."
   ]
  }
 ],
 "metadata": {
  "kernelspec": {
   "display_name": "Python 3 (ipykernel)",
   "language": "python",
   "name": "python3"
  },
  "language_info": {
   "codemirror_mode": {
    "name": "ipython",
    "version": 3
   },
   "file_extension": ".py",
   "mimetype": "text/x-python",
   "name": "python",
   "nbconvert_exporter": "python",
   "pygments_lexer": "ipython3",
   "version": "3.9.7"
  }
 },
 "nbformat": 4,
 "nbformat_minor": 5
}
