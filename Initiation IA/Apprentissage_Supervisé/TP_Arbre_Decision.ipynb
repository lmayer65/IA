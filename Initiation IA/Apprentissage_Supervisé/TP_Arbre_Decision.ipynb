{
 "cells": [
  {
   "cell_type": "markdown",
   "id": "bf4568a3",
   "metadata": {},
   "source": [
    "# 🌳 Cours : Arbres de Décision (Decision Tree)\n",
    "\n",
    "## 1. Définition\n",
    "Un **arbre de décision** est un algorithme d'apprentissage supervisé qui permet de prendre une décision à partir de conditions successives sur les données.\n",
    "\n",
    "- Chaque **nœud** teste une condition sur une variable.\n",
    "- Chaque **branche** correspond à un résultat possible de cette condition.\n",
    "- Chaque **feuille** donne une **prédiction** (classe ou valeur)."
   ]
  },
  {
   "cell_type": "markdown",
   "id": "6d652725",
   "metadata": {},
   "source": [
    "Lorsqu'un nœud donne la réponse, on dit que le nœud est <b>terminal</b>. Prenons l'arbre de décision suivant qui indique si \n",
    "l'on doit prendre un parapluie avec nous en fonction du temps."
   ]
  },
  {
   "cell_type": "code",
   "execution_count": null,
   "id": "92c5cb6c",
   "metadata": {},
   "outputs": [],
   "source": [
    "# Affiche l'image\n",
    "\n",
    "from IPython.display import HTML\n",
    "import base64\n",
    "\n",
    "# Ouvre et encode l'image\n",
    "with open(\"arb.jpg\", \"rb\") as f:\n",
    "    image_data = f.read()\n",
    "    image_base64 = base64.b64encode(image_data).decode(\"utf-8\")\n",
    "\n",
    "# HTML d'affichage\n",
    "html = f'<img src=\"data:image/png;base64,{image_base64}\" width=\"600\"/>'\n",
    "HTML(html)"
   ]
  },
  {
   "cell_type": "markdown",
   "id": "3108ff31",
   "metadata": {},
   "source": [
    "### ✔ Avantages :\n",
    "- Interprétable (facile à comprendre)\n",
    "- Gère les données catégorielles et numériques\n",
    "\n",
    "### ❌ Inconvénients :\n",
    "- Risque de sur-apprentissage (overfitting)\n",
    "- Sensible aux petites variations des données\n",
    "\n",
    "---\n",
    "\n",
    "## 2. Utilisation typique\n",
    "On l'utilise en **classification** (on obtient une **catégorie**) ou en **régression** (on obtient une **valeur**) pour prédire un résultat à partir de plusieurs critères :\n",
    "- Exemple : prédire si un élève réussira à un projet NSI en fonction de son travail, son organisation, etc."
   ]
  },
  {
   "cell_type": "markdown",
   "id": "ef6d7b58",
   "metadata": {},
   "source": [
    "# 🧪 TP : Prédire la réussite d’un élève avec un arbre de décision (Classification)\n",
    "\n",
    "On veut prédire la réussite d’un élève à partir de :\n",
    "- son nombre d’heures de travail par semaine\n",
    "- s’il travaille en groupe ou non\n",
    "- s’il rend ses devoirs à l’heure"
   ]
  },
  {
   "cell_type": "code",
   "execution_count": null,
   "id": "d021b9ca",
   "metadata": {},
   "outputs": [],
   "source": [
    "# Installation des bibliothèques\n",
    "!pip install pandas numpy scikit-learn matplotlib"
   ]
  },
  {
   "cell_type": "code",
   "execution_count": null,
   "id": "393b2d1d",
   "metadata": {},
   "outputs": [],
   "source": [
    "# 1. Importation des bibliothèques\n",
    "import pandas as pd\n",
    "from sklearn.preprocessing import LabelEncoder\n",
    "from sklearn.tree import DecisionTreeClassifier, plot_tree\n",
    "import matplotlib.pyplot as plt"
   ]
  },
  {
   "cell_type": "code",
   "execution_count": null,
   "id": "114fdb0c",
   "metadata": {},
   "outputs": [],
   "source": [
    "# 2. Jeu de données\n",
    "# Chaque ligne correspond à un élève\n",
    "data = pd.DataFrame({\n",
    "    'heures': [2, 5, 3, 8, 1, 7, 4],\n",
    "    'groupe': ['non', 'oui', 'oui', 'oui', 'non', 'non', 'oui'],\n",
    "    'rend_a_heure': ['non', 'oui', 'non', 'oui', 'non', 'oui', 'oui'],\n",
    "    'reussite': ['non', 'oui', 'non', 'oui', 'non', 'oui', 'oui']\n",
    "})\n",
    "\n",
    "print(data)"
   ]
  },
  {
   "cell_type": "code",
   "execution_count": null,
   "id": "56499115",
   "metadata": {},
   "outputs": [],
   "source": [
    "# 3. Encodage des données catégorielles\n",
    "enc_groupe = LabelEncoder()\n",
    "enc_rend = LabelEncoder()\n",
    "enc_reussite = LabelEncoder()\n",
    "\n",
    "data['groupe'] = enc_groupe.fit_transform(data['groupe'])\n",
    "data['rend_a_heure'] = enc_rend.fit_transform(data['rend_a_heure'])\n",
    "data['reussite'] = enc_reussite.fit_transform(data['reussite'])\n",
    "\n",
    "print(data)"
   ]
  },
  {
   "cell_type": "code",
   "execution_count": null,
   "id": "000f0351",
   "metadata": {},
   "outputs": [],
   "source": [
    "# 4. Apprentissage du modèle\n",
    "X = data[['heures', 'groupe', 'rend_a_heure']]\n",
    "y = data['reussite']\n",
    "\n",
    "clf = DecisionTreeClassifier()\n",
    "clf.fit(X, y)"
   ]
  },
  {
   "cell_type": "code",
   "execution_count": null,
   "id": "f8334d30",
   "metadata": {},
   "outputs": [],
   "source": [
    "# 5. Prédiction pour un nouvel élève\n",
    "# Exemple : 4h/semaine, travaille en groupe, rend à l’heure\n",
    "nouvel_eleve = [[4, 1, 1]]\n",
    "prediction = clf.predict(nouvel_eleve)\n",
    "print(\"Réussite prédite :\", enc_reussite.inverse_transform(prediction))"
   ]
  },
  {
   "cell_type": "code",
   "execution_count": null,
   "id": "786ce26b",
   "metadata": {},
   "outputs": [],
   "source": [
    "# 6. Affichage graphique de l'arbre\n",
    "plt.figure(figsize=(10, 6))\n",
    "plot_tree(clf,\n",
    "          feature_names=['heures', 'groupe', 'rend_a_heure'],\n",
    "          class_names=enc_reussite.classes_,\n",
    "          filled=True,\n",
    "          rounded=True)\n",
    "plt.title(\"Arbre de décision - Réussite au projet NSI\")\n",
    "plt.show()"
   ]
  },
  {
   "cell_type": "markdown",
   "id": "20d826fc",
   "metadata": {},
   "source": [
    "L'arbre de décision de **classification** est monté à partir de <b>l'indice de Gini</b> qui est calculé par une formule mathématiques tenant compte de la proportion des données appartenant à une classe à partir d'un critère. Il doit être le plus <b>proche de 0</b> (noeud pur) possible, un coefficient proche de 0.5 est très mauvais.\n",
    "Ici, on voit que le fait de ne pas rendre à temps son travail est synonyme d'échec : c'est le critère de division principal retenu !"
   ]
  },
  {
   "cell_type": "markdown",
   "id": "955b898f",
   "metadata": {},
   "source": [
    "# 🧪 TP : Classification des animaux avec un Arbre de Décision\n",
    "\n",
    "On veut prédire la classification d'un animal à partir de :\n",
    "- sa taille\n",
    "- la présence de poils\n",
    "- s’il vit dans l'eau"
   ]
  },
  {
   "cell_type": "code",
   "execution_count": null,
   "id": "89693344",
   "metadata": {},
   "outputs": [],
   "source": [
    "# 🧪 TP : Classification des animaux avec un Arbre de Décision\n",
    "\n",
    "## Objectif :\n",
    "# Vous allez construire un arbre de décision qui permet de classer des animaux en fonction de leurs caractéristiques.\n",
    "# Complétez le code ci-dessous pour entraîner le modèle et faire des prédictions.\n",
    "\n",
    "# 🚀 1. Importation des bibliothèques\n",
    "import pandas as pd\n",
    "from sklearn.tree import DecisionTreeClassifier, plot_tree\n",
    "from sklearn.preprocessing import LabelEncoder\n",
    "import matplotlib.pyplot as plt\n",
    "\n",
    "\n",
    "# 🚀 2. Création du jeu de données\n",
    "# Remplissez ce tableau avec des animaux et leurs caractéristiques\n",
    "data = pd.DataFrame({\n",
    "    'Taille': ['petit', 'grand', 'petit', 'moyen', 'grand', 'moyen', 'petit'],\n",
    "    'A des poils': ['oui', 'non', 'oui', 'non', 'non', 'oui', 'oui'],\n",
    "    'Vit dans l’eau': ['non', 'oui', 'non', 'oui', 'non', 'oui', 'non'],\n",
    "    'Classe': ['mammifère', 'poisson', 'mammifère', 'amphibien', 'oiseau', 'mammifère', 'mammifère']\n",
    "})\n",
    "\n",
    "\n",
    "# 🚀 3. Encodage des données catégorielles\n",
    "enc_taille = LabelEncoder()\n",
    "enc_poils = LabelEncoder()\n",
    "enc_eau = LabelEncoder()\n",
    "enc_classe = LabelEncoder()\n",
    "\n",
    "\n",
    "############ A COMPLETER ##################\n",
    "\n",
    "\n",
    "# Affichage du tableau encodé\n",
    "print(data)\n",
    "\n",
    "\n",
    "# 🚀 4. Création et entraînement du modèle\n",
    "\n",
    "############ A COMPLETER ##################\n",
    "\n",
    "\n",
    "# 🚀 5. Prédiction pour un nouvel animal\n",
    "# Animal : taille moyenne, a des poils, ne vit pas dans l’eau\n",
    "nouvel_animal = [[1, 1, 0]]\n",
    "prediction = clf.predict(nouvel_animal)\n",
    "\n",
    "print(\"Classe prédite :\", enc_classe.inverse_transform(prediction))\n",
    "\n",
    "\n",
    "# 🚀 6. Affichage de l'arbre de décision\n",
    "plt.figure(figsize=(10, 6))\n",
    "plot_tree(clf,\n",
    "          feature_names=['Taille', 'A des poils', 'Vit dans l’eau'],\n",
    "          class_names=enc_classe.classes_,\n",
    "          filled=True,\n",
    "          rounded=True)\n",
    "plt.title(\"Arbre de Décision - Classification des Animaux\")\n",
    "plt.show()"
   ]
  },
  {
   "cell_type": "markdown",
   "id": "f2edaea8",
   "metadata": {},
   "source": [
    "### 🎯 **Questions pour aller plus loin**\n",
    " \n",
    " 1. Compléter le code. \n",
    " 2. Quels sont les critères les plus déterminants selon l’arbre ?\n",
    " 3. Ajoutez d’autres animaux au jeu de données. L’arbre s’adapte-t-il bien ?"
   ]
  },
  {
   "cell_type": "markdown",
   "id": "f0b808b3",
   "metadata": {},
   "source": [
    "# 🧪 TP d'Application : Prédiction du Prix d'une Maison avec un Arbre de Décision\n",
    "\n",
    "## Objectif :\n",
    "Dans ce TP, vous allez entraîner un **arbre de décision de régression** pour prédire le **prix d'une maison** en fonction de plusieurs critères :\n",
    "- **Surface habitable (m²)**\n",
    "- **Nombre de chambres**\n",
    "- **Année de construction**\n",
    "\n",
    "Votre objectif est de **compléter le code** ci-dessous afin d'entraîner un modèle d'arbre de régression et de faire des prédictions."
   ]
  },
  {
   "cell_type": "code",
   "execution_count": null,
   "id": "6395c236",
   "metadata": {},
   "outputs": [],
   "source": [
    "# 1. Importation des bibliothèques\n",
    "import pandas as pd\n",
    "from sklearn.tree import DecisionTreeRegressor, plot_tree\n",
    "import matplotlib.pyplot as plt"
   ]
  },
  {
   "cell_type": "code",
   "execution_count": null,
   "id": "09d6f4c5",
   "metadata": {},
   "outputs": [],
   "source": [
    "# 2. Création du jeu de données (à compléter)\n",
    "data = pd.DataFrame({\n",
    "    'surface': [50, 75, 100, 120, 150, 200, 250],\n",
    "    'chambres': [1, 2, 3, 3, 4, 5, 5],\n",
    "    'annee_construction': [2000, 1995, 2010, 2005, 2015, 1990, 1985],\n",
    "    'prix': [150000, 200000, 250000, 275000, 350000, 400000, 500000]\n",
    "})\n",
    "\n",
    "print(data)  # Affichage du tableau\n"
   ]
  },
  {
   "cell_type": "code",
   "execution_count": null,
   "id": "1a7b2c35",
   "metadata": {},
   "outputs": [],
   "source": [
    "# 3. Création et entraînement du modèle (à compléter)\n",
    "X = data[['surface', 'chambres', 'annee_construction']]\n",
    "y = data['prix']\n",
    "\n",
    "reg = DecisionTreeRegressor()\n",
    "reg.fit(X, y)\n"
   ]
  },
  {
   "cell_type": "code",
   "execution_count": null,
   "id": "521041ec",
   "metadata": {},
   "outputs": [],
   "source": [
    "# 4. Prédiction pour une nouvelle maison\n",
    "# Testez avec une maison de 110m², 3 chambres, construite en 2012\n",
    "nouvelle_maison = [[110, 3, 2012]]\n",
    "prediction = reg.predict(nouvelle_maison)\n",
    "print(\"Prix prédit :\", prediction[0], \"€\")\n"
   ]
  },
  {
   "cell_type": "code",
   "execution_count": null,
   "id": "c848bd44",
   "metadata": {},
   "outputs": [],
   "source": [
    "# 5. Affichage de l'arbre de décision\n",
    "plt.figure(figsize=(12, 6))\n",
    "plot_tree(reg,\n",
    "          feature_names=['surface', 'chambres', 'annee_construction'],\n",
    "          filled=True,\n",
    "          rounded=True)\n",
    "plt.title(\"Arbre de Décision - Prédiction du Prix d'une Maison\")\n",
    "plt.show()"
   ]
  },
  {
   "cell_type": "markdown",
   "id": "9985f5ae",
   "metadata": {},
   "source": [
    "On utilise cette fois **la variance réduite** (écart à la moyenne) pour déterminer les critères de sélection des noeuds."
   ]
  },
  {
   "cell_type": "markdown",
   "id": "6cc77877",
   "metadata": {},
   "source": [
    "### 🎯 **Questions pour aller plus loin**\n",
    "1. Modifiez les valeurs de `nouvelle_maison`. Comment la prédiction change-t-elle ?\n",
    "2. Quelle est le critère qui influence le plus le prix d'une maison selon l'arbre ?\n",
    "3. (*) Modifier les données pour que la surface soit le critère principal du prix de la maison.\n"
   ]
  }
 ],
 "metadata": {
  "kernelspec": {
   "display_name": "Python 3 (ipykernel)",
   "language": "python",
   "name": "python3"
  },
  "language_info": {
   "codemirror_mode": {
    "name": "ipython",
    "version": 3
   },
   "file_extension": ".py",
   "mimetype": "text/x-python",
   "name": "python",
   "nbconvert_exporter": "python",
   "pygments_lexer": "ipython3",
   "version": "3.9.7"
  }
 },
 "nbformat": 4,
 "nbformat_minor": 5
}
