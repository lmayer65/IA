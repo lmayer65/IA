{
 "cells": [
  {
   "cell_type": "markdown",
   "id": "babceb77",
   "metadata": {},
   "source": [
    "# TP : Analyse en Composantes Principales (ACP) et choix du clustering\n",
    "\n",
    "## 1. Introduction\n",
    "\n",
    "### 🌟 Objectifs du TP\n",
    "- Comprendre le fonctionnement du PCA (ACP en français)\n",
    "- Réduire la dimension de données pour les visualiser\n",
    "- Comparer les résultats de clustering (K-Means et DBSCAN) sur les données projetées\n",
    "\n",
    "### 🔍 Qu'est-ce que le PCA ?\n",
    "L'**Analyse en Composantes Principales** (ACP ou PCA pour *Principal Component Analysis*) est une méthode mathématique qui permet de :\n",
    "- **Réduire le nombre de dimensions** d'un jeu de données,\n",
    "- En conservant un maximum d'information (**variance**),\n",
    "- En projetant les points dans un nouvel espace (appelé espace des composantes principales).\n",
    "\n",
    "Cela permet notamment de **visualiser** des données complexes en 2D, ou de **prétraiter les données** avant un clustering.\n",
    "\n",
    "### 🧹 Pourquoi prétraiter les données avec le PCA avant un clustering ?\n",
    "- Lorsque les données ont **beaucoup de dimensions**, certaines peuvent être **corrélées ou peu informatives**.\n",
    "- Le PCA élimine ces redondances et simplifie la structure des données.\n",
    "- En réduisant le bruit et la complexité, cela peut :\n",
    "  - améliorer la qualité des clusters,\n",
    "  - faciliter le travail de K-Means ou DBSCAN,\n",
    "  - réduire les temps de calcul.\n",
    "\n",
    "En résumé, le PCA sert souvent de **filtre intelligent** avant de lancer un algorithme de regroupement."
   ]
  },
  {
   "cell_type": "markdown",
   "id": "8ae372f3",
   "metadata": {},
   "source": [
    "## 2. Test avec un jeu de données multidimensionnel\n",
    "\n",
    "Jusqu'ici, on n'a travaillé qu'avec des données ne comportant que deux dimensions pour une meilleure visibilité. Qu'en est-il des données mutidimensionnelles ?"
   ]
  },
  {
   "cell_type": "code",
   "execution_count": null,
   "id": "f5d90d63",
   "metadata": {},
   "outputs": [],
   "source": [
    "# Installation des bibliothèques\n",
    "!pip install pandas numpy scikit-learn matplotlib seaborn"
   ]
  },
  {
   "cell_type": "markdown",
   "id": "be15f070",
   "metadata": {},
   "source": [
    "### 📁 2.1 Génération de données (5 dimensions)"
   ]
  },
  {
   "cell_type": "code",
   "execution_count": null,
   "id": "787d4a4c",
   "metadata": {},
   "outputs": [],
   "source": [
    "from sklearn.datasets import make_classification\n",
    "import pandas as pd\n",
    "import matplotlib.pyplot as plt\n",
    "\n",
    "# Création d'un jeu avec 5 caractéristiques\n",
    "X, y = make_classification(n_samples=300, n_features=5, n_redundant=0, \n",
    "                           n_clusters_per_class=1, random_state=42)\n",
    "\n",
    "# Conversion en DataFrame\n",
    "df = pd.DataFrame(X, columns=[f\"Feature_{i+1}\" for i in range(X.shape[1])])\n",
    "df.head()  # Affichage des attributs et des 5 premiers enregistrements"
   ]
  },
  {
   "cell_type": "markdown",
   "id": "a3f441cb",
   "metadata": {},
   "source": [
    "### 🔌2.2  Détermination des composantes et variance par l'algorithme PCA \n",
    "\n",
    "L'algorithme PCA va permettre de diminuer le nombre de dimensions, de 5 à 2 ici."
   ]
  },
  {
   "cell_type": "code",
   "execution_count": null,
   "id": "76997af0",
   "metadata": {},
   "outputs": [],
   "source": [
    "from sklearn.decomposition import PCA\n",
    "\n",
    "# Réduction à 2 composantes principales\n",
    "pca = PCA(n_components=2)\n",
    "X_reduit = pca.fit_transform(X)"
   ]
  },
  {
   "cell_type": "markdown",
   "id": "717f2745",
   "metadata": {},
   "source": [
    "Chaque **composante** est une combinaison linéaire de plusieurs critères, et c’est cette combinaison entière qui explique une part de la variance.\n",
    "\n",
    "**La variance** :\n",
    "\n",
    "- ❌ La variance expliquée par une composante ne reflète pas directement le poids d’un critère (ou variable).\n",
    "- ✅ Le pourcentage de variation totale des données capté par chaque **composante principale**.\n",
    "\n",
    "\n",
    "\n",
    "🎓 **<u>Exemple</u>** :\n",
    "Si `Composante 1` explique 60% de la variance, cela signifie qu’en projetant toutes les données sur cet axe, on conserve 60 % de l'information globale. Mais cela ne dit pas quel critère (ex : revenu, âge...) est responsable de ce 60 %.\n",
    "\n",
    "\n"
   ]
  },
  {
   "cell_type": "code",
   "execution_count": null,
   "id": "23600ff3",
   "metadata": {},
   "outputs": [],
   "source": [
    "# Détermination de la variance de chaque composante \n",
    "pca = PCA(n_components=2)  # 2 composantes\n",
    "X_reduit = pca.fit_transform(X)\n",
    "print(pca.explained_variance_ratio_)\n"
   ]
  },
  {
   "cell_type": "markdown",
   "id": "254a7f22",
   "metadata": {},
   "source": [
    "On voit que seulement **55% (32% + 23%) de l'information** est conservée : il va falloir utiliser plus de composants."
   ]
  },
  {
   "cell_type": "code",
   "execution_count": null,
   "id": "37b4e8a3",
   "metadata": {},
   "outputs": [],
   "source": [
    "# Détermination de la variance de chaque composante \n",
    "pca = PCA(n_components=3) # 3 composantes\n",
    "X_pca3 = pca.fit_transform(X)\n",
    "print(pca.explained_variance_ratio_)"
   ]
  },
  {
   "cell_type": "markdown",
   "id": "b755cd11",
   "metadata": {},
   "source": [
    "On passe maintenant à **75% de l'information** de conservée : c'est bien mieux :).\n",
    "Pour visualiser tout cela, on va afficher un **graphique par paire de composants**, ce sera plus lisible."
   ]
  },
  {
   "cell_type": "code",
   "execution_count": null,
   "id": "d6adbf9a",
   "metadata": {},
   "outputs": [],
   "source": [
    "from sklearn.decomposition import PCA\n",
    "\n",
    "# Réduction à 3 composantes principales\n",
    "pca = PCA(n_components=3)\n",
    "X_pca3 = pca.fit_transform(X)\n",
    "\n",
    "\n",
    "# Affichage des 3 combinaisons de composantes principales\n",
    "pairs = [(0, 1), (0, 2), (1, 2)]\n",
    "for i, j in pairs:\n",
    "    plt.figure()\n",
    "    plt.scatter(X_pca3[:, i], X_pca3[:, j], s=50)\n",
    "    plt.xlabel(f\"Composante {i+1}\")\n",
    "    plt.ylabel(f\"Composante {j+1}\")\n",
    "    plt.title(f\"Projection : Composantes {i+1} et {j+1}\")\n",
    "    plt.grid(True)\n",
    "    plt.show()"
   ]
  },
  {
   "cell_type": "markdown",
   "id": "a359b665",
   "metadata": {},
   "source": [
    "### 📊 2.3 Comparaison avec K-Means / DBSCAN\n",
    "\n",
    "**<u>Remarque</u>** : on pourra toujours appliquer la `méthode du coude (K-Means)` et le `k-distance-plot (DBSCAN)` pour déterminer les **meilleurs paramètres** (n_cluster et eps / min_samples)."
   ]
  },
  {
   "cell_type": "code",
   "execution_count": null,
   "id": "bb1cf56d",
   "metadata": {},
   "outputs": [],
   "source": [
    "from sklearn.cluster import KMeans\n",
    "from sklearn.cluster import DBSCAN\n",
    "from sklearn.neighbors import NearestNeighbors\n",
    "from collections import Counter\n",
    "import numpy as np\n",
    "\n",
    "\n",
    "### 🔎 Application de K-Means \n",
    "kmeans = KMeans(n_clusters=3, random_state=42, n_init=10)  # Meilleur k observé\n",
    "k_labels = kmeans.fit_predict(X_pca3)\n",
    "\n",
    "# Affichage 2D selon les 2 premières composantes\n",
    "plt.scatter(X_pca3[:, 0], X_pca3[:, 1], c=k_labels, cmap=\"viridis\", s=50)\n",
    "plt.title(\"K-Means sur données PCA (3 composantes)\")\n",
    "plt.show()\n",
    "\n",
    "\n",
    "\n",
    "### 🔎 DBSCAN\n",
    "dbscan = DBSCAN(eps=0.813, min_samples=3)  # Meilleure estimation eps/min_samples\n",
    "d_labels = dbscan.fit_predict(X_pca3)\n",
    "\n",
    "# Affichage 2D selon les 2 premières composantes\n",
    "plt.scatter(X_pca3[:, 0], X_pca3[:, 1], c=d_labels, cmap=\"plasma\", s=50)\n",
    "plt.title(\"DBSCAN sur données PCA (3 composantes)\")\n",
    "plt.show()"
   ]
  },
  {
   "cell_type": "markdown",
   "id": "e877f3f9",
   "metadata": {},
   "source": [
    "**<u>Remarque</u>** : on peut aussi proposer un **affichage en 3D** à titre informatif."
   ]
  },
  {
   "cell_type": "code",
   "execution_count": null,
   "id": "7b51cde6",
   "metadata": {},
   "outputs": [],
   "source": [
    "### 🧊 Affichage 3D avec matplotlib\n",
    "from mpl_toolkits.mplot3d import Axes3D\n",
    "from mpl_toolkits.mplot3d.art3d import Poly3DCollection\n",
    "\n",
    "fig = plt.figure(figsize=(8, 6))\n",
    "ax = fig.add_subplot(111, projection='3d')\n",
    "\n",
    "ax.scatter(X_pca3[:, 0], X_pca3[:, 1], X_pca3[:, 2], c=k_labels, cmap='viridis', s=50)\n",
    "ax.set_xlabel(\"Composante 1\")\n",
    "ax.set_ylabel(\"Composante 2\")\n",
    "ax.set_zlabel(\"Composante 3\")\n",
    "ax.set_title(\"Visualisation 3D des données PCA + K-Means\")\n",
    "plt.show()"
   ]
  },
  {
   "cell_type": "markdown",
   "id": "98bc6878",
   "metadata": {},
   "source": [
    "### 🎯2.4. Comparaison / Questions\n",
    "\n",
    "- Qu'observe-t-on ? *On observe que les données projetées en 2D conservent une structure qui permet de distinguer plusieurs groupes.\n",
    "  Les points forment des regroupements visibles, bien que la séparation ne soit pas toujours nette.*\n",
    "  \n",
    "  \n",
    "- Le **clustering** change-t-il entre K-Means et DBSCAN ? *Oui. K-Means impose un nombre fixe de clusters et découpe l'espace de façon circulaire. DBSCAN, lui, détecte automatiquement les groupes selon la densité des points et peut identifier du bruit.*\n",
    "\n",
    "\n",
    "- Quels sont les **avantages / inconvénients** visibles ? *K-Means détermine efficacement 3 clusters (on pourrait essayer avec d'autres valeurs). DBSCAN n'est pas fiable ici, les données ne sont pas assez denses et/ou trop espacées.*\n",
    "\n",
    "\n",
    "- Que nous apprend la projection PCA sur la forme des données ? *Elle montre que les données initiales à 5 dimensions peuvent être bien représentées dans un espace ici à 3 dimensions tout en conservant une bonne partie de la structure. Cela facilite la visualisation et le clustering.*\n"
   ]
  },
  {
   "cell_type": "markdown",
   "id": "5a345a39",
   "metadata": {},
   "source": [
    "## 3. TP : Catégoriser des patients selon le risque de cancer.\n",
    "\n",
    "\n",
    "## 🎯 Objectifs du TP\n",
    "- Analyser un jeu de données contenant des informations sur des **facteurs de risque de cancer**.\n",
    "- Réduire la dimension des données à 2 ou 3 composantes avec PCA.\n",
    "- Visualiser les individus dans l'espace réduit.\n",
    "- Explorer les regroupements potentiels par clustering (`K-Means` ou `DBSPAN`).\n",
    "\n",
    "Un fichier de données contient 2000 clients fictifs avec les informations suivantes :\n",
    "- `âge` (en années)\n",
    "- `poids` (en kg)\n",
    "- `antécédents familiaux` (oui / non)\n",
    "- `tabac` (oui / non)\n",
    "- `alcool` (oui / non)\n",
    "- `activité sportive`(faible, moyenne, intense)"
   ]
  },
  {
   "cell_type": "markdown",
   "id": "f6deee2a",
   "metadata": {},
   "source": [
    "### 📥 3.1 – Chargement des données avec pandas"
   ]
  },
  {
   "cell_type": "code",
   "execution_count": 8,
   "id": "651245ed",
   "metadata": {},
   "outputs": [
    {
     "name": "stdout",
     "output_type": "stream",
     "text": [
      "         Âge      Poids Fumeur Consommation_Alcool Antécédents_Familiaux  \\\n",
      "0  42.483571  52.923146    Non                 Non                   Non   \n",
      "1  39.308678  57.896773    Non                 Non                   Non   \n",
      "2  43.238443  58.286427    Non                 Non                   Non   \n",
      "3  47.615149  55.988614    Non                 Non                   Non   \n",
      "4  38.829233  59.193571    Non                 Non                   Non   \n",
      "\n",
      "  Activité_Physique  \n",
      "0           Intense  \n",
      "1           Intense  \n",
      "2           Intense  \n",
      "3           Intense  \n",
      "4           Intense  \n"
     ]
    }
   ],
   "source": [
    "# Chargement depuis un fichier CSV (à placer dans le même dossier que ce notebook)\n",
    "import pandas as pd\n",
    "\n",
    "df = pd.read_csv(\"donnees_cancer_pca.csv\", encoding=\"utf-8\", encoding_errors=\"ignore\")  # Noter le UTF-8 :)\n",
    "print(df.head())"
   ]
  },
  {
   "cell_type": "markdown",
   "id": "dfed0ac6",
   "metadata": {},
   "source": [
    "### 🔄 3.2 – Encodage des données\n",
    "\n",
    "Avant d'appliquer le PCA, il faut convertir les variables non numériques en format numérique. On utilise :\n",
    "\n",
    "- `LabelEncoder` pour les **variables ordinales**, c'est-à-dire celles qui ont un ordre logique entre les modalités (ex : \"Faible\" < \"Modérée\" < \"Intense\").\n",
    "- `get_dummies` pour les **variables nominales**, qui représentent des catégories sans ordre (ex : \"Oui\" ou \"Non\").\n",
    "\n",
    "\n",
    "**<u>Remarques</u>** :\n",
    "- On pourrait utiliser tout le temps `LabelEncoder` même à la place de `get_dummies`, attention à ne pas introduire **d'ordre artificiel**.\n",
    "- `get_dummies` permet d'encoder plusieurs attributs en même temps contrairement à `LabelEncoder`.\n",
    "\n",
    "\n",
    "#### 🧠 **Fonctionnement** de `get_dummies` \n",
    "\n",
    "Quand `get_dummies` encode une variable binaire comme \"*Fumeur*\" avec les modalités \"*Oui*\" et \"*Non*\", il crée deux colonnes :\n",
    "\n",
    "| Fumeur_Oui | Fumeur_Non |\n",
    "|------------|------------|\n",
    "| 1          | 0          |\n",
    "| 0          | 1          |\n",
    "\n",
    "Avec `drop_first=True`, seule la colonne `Fumeur_Oui` est conservée. Cela évite les **redondances** et les **liens entre attributs** qui pourraient perturber des algorithmes contre les régressions et le PPCA"
   ]
  },
  {
   "cell_type": "code",
   "execution_count": 23,
   "id": "833a40e3",
   "metadata": {},
   "outputs": [],
   "source": [
    "from sklearn.cluster import KMeans\n",
    "from sklearn.cluster import DBSCAN\n",
    "from sklearn.neighbors import NearestNeighbors\n",
    "from sklearn.decomposition import PCA\n",
    "from sklearn.preprocessing import StandardScaler\n",
    "from sklearn.preprocessing import LabelEncoder\n",
    "from collections import Counter\n",
    "import numpy as np\n",
    "import matplotlib.pyplot as plt\n",
    "\n",
    "\n",
    "# On crée une copie de df pour travailler dessus sans modifier l'original\n",
    "# Cela évite d'altérer le DataFrame de base si on veut le réutiliser ensuite \n",
    "# (l'encodage rajoute des colonnes et modifie les valeurs).\n",
    "X = df.copy()\n",
    "\n",
    "\n",
    "# Encodage de l'activité physique (ordinale)\n",
    "le = LabelEncoder()\n",
    "X[\"Activité_Physique\"] = le.fit_transform(X[\"Activité_Physique\"])\n",
    "\n",
    "# Encodage one-hot des autres variables catégorielles (non ordonnées)\n",
    "# Le drop_first = True permet d'éviter les redondances \n",
    "X_encoded = pd.get_dummies(X, columns=[\"Fumeur\", \"Consommation_Alcool\", \"Antécédents_Familiaux\"], drop_first=True)"
   ]
  },
  {
   "cell_type": "markdown",
   "id": "f2292589",
   "metadata": {},
   "source": [
    "### 🧠 3.4  Analyse en composantes principales (PCA)\n",
    "\n",
    "Il faut déterminer le nombre de composantes optimal pour le PCA. Mais avant cela, il faut **standardiser** les critères, c'est à dire leur donner un **poids égal** (les composantes sont des combinaisons linéaires des critères fournis, ainsi, un âge entre 40 et 70 ans pèserait bien plus qu'un 0 / 1 caractérisant un fumeur ou non).\n",
    "\n",
    "✅ Ce que fait `StandardScaler` :\n",
    "Il transforme chaque colonne pour qu’elle ait :\n",
    "- une moyenne = 0\n",
    "- un écart type = 1\n",
    "\n",
    "Autrement dit, il met toutes **les variables sur la même échelle**, ce qui rend leur importance équivalente dans le PCA.\n",
    "\n",
    "✅ Nombre de **composantes nécessaires** au PCA : un minimum de **75% d'informations retenues** est attendu ici."
   ]
  },
  {
   "cell_type": "code",
   "execution_count": 11,
   "id": "4d12a2f0",
   "metadata": {},
   "outputs": [
    {
     "name": "stdout",
     "output_type": "stream",
     "text": [
      "Variance expliquée par composante : [0.6983173  0.25243513]\n",
      "Variance expliquée par composante : [0.6983173  0.25243513 0.03271261]\n"
     ]
    }
   ],
   "source": [
    "# Mise des variables à la même échelle\n",
    "X_scaled = StandardScaler().fit_transform(X_encoded)\n",
    "\n",
    "\n",
    "# TEST : PCA avec 2 composantes (avec résultats)\n",
    "################### A COMPLETER ########################\n",
    "\n",
    "# TEST : PCA avec 3 composantes (avec résultats)\n",
    "################### A COMPLETER ########################"
   ]
  },
  {
   "cell_type": "markdown",
   "id": "19021d48",
   "metadata": {},
   "source": [
    "### 📌Questions\n",
    "\n",
    "- 1. **Compléter** le code manquant permettant de tester le PCA pour 2 et 3 composantes. On notera **<u>obligatoirement</u>** `X_pca` les données travaillées après l'entraînement du modèle PCA.\n",
    "- 2. **Conclure** sur le nombre de composantes.\n",
    "\n",
    "**<u>Aide</u>** : on verra ici que *2 composantes* sont largement suffisantes (95% d'informations retenues)."
   ]
  },
  {
   "cell_type": "markdown",
   "id": "463362ea",
   "metadata": {},
   "source": [
    "### 🧠 3.5  Application du PCA et détermination du meilleur modèle K-Means / DBSCAN\n"
   ]
  },
  {
   "cell_type": "code",
   "execution_count": 14,
   "id": "c573cb01",
   "metadata": {},
   "outputs": [
    {
     "name": "stdout",
     "output_type": "stream",
     "text": [
      "Variance expliquée par composante : [0.6983173  0.25243513]\n"
     ]
    },
    {
     "data": {
      "image/png": "[encoded data removed]",
      "text/plain": [
       "<Figure size 432x288 with 1 Axes>"
      ]
     },
     "metadata": {
      "needs_background": "light"
     },
     "output_type": "display_data"
    }
   ],
   "source": [
    "# Application de la PCA avec le bon nombre de composantes\n",
    "################### A COMPLETER ########################\n",
    "\n",
    "# Affichage 2D \n",
    "plt.scatter(X_pca[:, 0], X_pca[:, 1], s=50, alpha=0.7)\n",
    "plt.xlabel(\"Composante 1\")\n",
    "plt.ylabel(\"Composante 2\")\n",
    "plt.title(\"Projection PCA (2 composantes)\")\n",
    "plt.grid(True)\n",
    "plt.show()"
   ]
  },
  {
   "cell_type": "markdown",
   "id": "ffdee9d6",
   "metadata": {},
   "source": [
    "### 📌Questions\n",
    "\n",
    "- 1. **Compléter** le code manquant.\n",
    "- 2. Quel modèle entre le **K-Means** et le **DBSCAN** pourrait-on appliquer ici ? Justifier. ON FERA UNE ANALYSE SEULEMENT QUALITATIVE (pas de tests)."
   ]
  },
  {
   "cell_type": "markdown",
   "id": "378cf68a",
   "metadata": {},
   "source": [
    "### 🧠 3.6  Application du PCA et détermination du meilleur modèle entre K-Means et DBSCAN"
   ]
  },
  {
   "cell_type": "code",
   "execution_count": 15,
   "id": "d3f4ea07",
   "metadata": {},
   "outputs": [
    {
     "data": {
      "image/png": "[encoded data removed]",
      "text/plain": [
       "<Figure size 432x288 with 1 Axes>"
      ]
     },
     "metadata": {
      "needs_background": "light"
     },
     "output_type": "display_data"
    }
   ],
   "source": [
    "# Application du meilleur modèle avec les bons critères\n",
    "################ A COMPLETER ###################\n",
    "\n",
    "\n",
    "# Affichage des résultat\n",
    "plt.scatter(X_pca[:, 0], X_pca[:, 1], c=labels, cmap='Set2', s=50)\n",
    "plt.title(\"Algorithme sur données PCA\")\n",
    "plt.xlabel(\"Composante 1\")\n",
    "plt.ylabel(\"Composante 2\")\n",
    "plt.grid(True)\n",
    "plt.show()"
   ]
  },
  {
   "cell_type": "markdown",
   "id": "d109c104",
   "metadata": {},
   "source": [
    "### 📌Question\n",
    "\n",
    "A priori, quels groupes de patients peut-on proposer à partir des résultats ?  "
   ]
  }
 ],
 "metadata": {
  "kernelspec": {
   "display_name": "Python 3 (ipykernel)",
   "language": "python",
   "name": "python3"
  },
  "language_info": {
   "codemirror_mode": {
    "name": "ipython",
    "version": 3
   },
   "file_extension": ".py",
   "mimetype": "text/x-python",
   "name": "python",
   "nbconvert_exporter": "python",
   "pygments_lexer": "ipython3",
   "version": "3.9.7"
  }
 },
 "nbformat": 4,
 "nbformat_minor": 5
}
