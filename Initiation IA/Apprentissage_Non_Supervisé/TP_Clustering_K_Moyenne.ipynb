{
 "cells": [
  {
   "cell_type": "markdown",
   "metadata": {},
   "source": [
    "#  🌳 TP : Clustering avec K-Means\n",
    "\n",
    "\n",
    "## 📌 1. Introduction  \n",
    "### 🎯 Objectifs du TP  \n",
    "L'objectif de ce TP est d'introduire la notion de clustering en utilisant l'algorithme **K-Means**. Nous allons appliquer cet algorithme sur un jeu de données simulé et un jeu de données réelles concernant la segmentation de clients.\n",
    "\n",
    "---"
   ]
  },
  {
   "cell_type": "markdown",
   "metadata": {},
   "source": [
    "## 📖 2. Théorie : Qu'est-ce que le clustering K-Means ?  \n",
    "L'apprentissage non supervisé permet de **regrouper des données similaires** sans étiquettes préalables.  \n",
    "L'algorithme **K-Means** divise un ensemble de données en *k* groupes (**clusters**) en fonction de leur proximité.\n",
    "\n",
    "### ⚙️ Principe de K-Means  \n",
    "1️⃣ Choisir *k*, le nombre de clusters.  \n",
    "2️⃣ Placer *k* centroïdes de manière aléatoire.  \n",
    "3️⃣ Assigner chaque point de données au centroïde le plus proche **en utilisant la distance euclidienne**.  \n",
    "4️⃣ Recalculer la position des centroïdes en prenant la moyenne des points assignés.  \n",
    "5️⃣ Répéter les étapes 3 et 4 jusqu'à convergence.\n",
    "\n"
   ]
  },
  {
   "cell_type": "markdown",
   "metadata": {},
   "source": [
    "### Illustration du recalcul des centroïdes\n",
    "Exécutez le code ci-dessous après avoir monté l'image dans Jupyter :"
   ]
  },
  {
   "cell_type": "code",
   "execution_count": null,
   "metadata": {},
   "outputs": [],
   "source": [
    "from IPython.display import display, Image\n",
    "try:\n",
    "    display(Image(filename='method-k-means-steps-example.png'))\n",
    "except FileNotFoundError:\n",
    "    print(\"L'image n'est pas encore montée. Veuillez la charger dans l'environnement Jupyter.\")"
   ]
  },
  {
   "cell_type": "markdown",
   "metadata": {},
   "source": [
    "### ✅ Avantages et ❌ Inconvénients de K-Means\n",
    "\n",
    "#### ✅ Avantages :\n",
    "✔️ Facile à implémenter et rapide sur de grandes bases de données.  \n",
    "✔️ Donne de bons résultats lorsque les clusters sont bien séparés et sphériques.  \n",
    "✔️ Peut être utilisé pour de nombreuses applications comme la segmentation de clients ou l'analyse d'image.  \n",
    "\n",
    "#### ❌ Inconvénients :\n",
    "❌ Sensible au choix du **nombre de centroïdes**, qui doit être défini à l'avance.  \n",
    "❌ Sensible aux valeurs aberrantes et aux formes de clusters non sphériques.  \n",
    "❌ L'initialisation aléatoire des centroïdes peut affecter les résultats.  \n",
    "\n",
    "📖 **Pour aller plus loin :** [IBM - K-Means Clustering](https://www.ibm.com/fr-fr/topics/k-means-clustering)\n"
   ]
  },
  {
   "cell_type": "markdown",
   "metadata": {},
   "source": [
    "## 🔬 3. Expérimentation : Application du K-Means sur un jeu de données simulé\n",
    "\n",
    "\n",
    " ### 📢 **Introduction**\n",
    " \n",
    "Dans cette première expérimentation, nous allons générer un jeu de données artificiel contenant plusieurs groupes de points répartis dans l’espace. L'objectif est d'appliquer **l'algorithme K-Means** pour détecter automatiquement ces groupes (**clusters**). Nous utiliserons également la **méthode du coude** pour déterminer le nombre optimal de clusters.\n",
    "\n",
    "### **Étapes du travail** \n",
    "\n",
    "✅ Générer des données aléatoires représentatives de groupes bien distincts.  \n",
    "✅ Visualiser ces données pour comprendre leur distribution.  \n",
    "✅ Appliquer l'algorithme **K-Means** et observer la répartition automatique des clusters.  \n",
    "✅ Vérifier l'impact du choix de *k* en utilisant la **méthode du coude**.  \n",
    "✅ Afficher les résultats du clustering en illustrant les clusters détectés.  \n"
   ]
  },
  {
   "cell_type": "code",
   "execution_count": null,
   "metadata": {},
   "outputs": [],
   "source": [
    "# Installation des bibliothèques\n",
    "!pip install pandas numpy scikit-learn matplotlib"
   ]
  },
  {
   "cell_type": "code",
   "execution_count": null,
   "metadata": {},
   "outputs": [],
   "source": [
    "# Importation des bibliothèques\n",
    "import numpy as np\n",
    "import matplotlib.pyplot as plt\n",
    "from sklearn.cluster import KMeans\n",
    "from sklearn.datasets import make_blobs"
   ]
  },
  {
   "cell_type": "code",
   "execution_count": null,
   "metadata": {},
   "outputs": [],
   "source": [
    "# Génération de données avec 3 clusters\n",
    "X, y = make_blobs(n_samples=300, centers=3, cluster_std=1.0, random_state=42)\n",
    "\n",
    "# Visualisation des données\n",
    "plt.scatter(X[:, 0], X[:, 1], s=50)\n",
    "plt.title(\"Données avant clustering\")\n",
    "plt.show()"
   ]
  },
  {
   "cell_type": "code",
   "execution_count": null,
   "metadata": {},
   "outputs": [],
   "source": [
    "# Application de K-Means avec k=3\n",
    "kmeans = KMeans(n_clusters=3, random_state=42)\n",
    "kmeans.fit(X)\n",
    "\n",
    "# Récupération des étiquettes et des centroïdes\n",
    "labels = kmeans.labels_\n",
    "centroids = kmeans.cluster_centers_"
   ]
  },
  {
   "cell_type": "code",
   "execution_count": null,
   "metadata": {},
   "outputs": [],
   "source": [
    "# Affichage des clusters après application de K-Means\n",
    "plt.scatter(X[:, 0], X[:, 1], c=labels, cmap='viridis', s=50, alpha=0.7)\n",
    "plt.scatter(centroids[:, 0], centroids[:, 1], c='red', marker='x', s=200, label='Centroïdes')\n",
    "plt.title(\"Résultat du clustering K-Means\")\n",
    "plt.legend()\n",
    "plt.show()\n",
    "del kmeans"
   ]
  },
  {
   "cell_type": "markdown",
   "metadata": {},
   "source": [
    "### 🎯 Questions pour aller plus loin\n",
    "\n",
    "1. Pourquoi l’algorithme K-Means nécessite-t-il de choisir le nombre de clusters *k* à l'avance ?\n",
    "2. Essayez de changer la valeur de *k* et observez les résultats.\n",
    "3. Que se passe-t-il si nous choisissons un *k* trop grand ou trop petit ?"
   ]
  },
  {
   "cell_type": "markdown",
   "metadata": {},
   "source": [
    "### **La méthode du coude** (ou comment trouver le nombre adapté de centroïdes)\n",
    "\n",
    "✅ L'**inertie** est une mesure utilisée dans K-Means pour évaluer la qualité du clustering.\n",
    "Elle correspond à la **somme des distances au carré entre chaque point et son centroïde** et doit être **faible**.\n",
    "\n",
    "✅ L'idée est donc de tester le modèle K_Means avec différentes valeurs de *k* et de trouver à partir de quelle valeur l'inertie devient faible.\n"
   ]
  },
  {
   "cell_type": "code",
   "execution_count": null,
   "metadata": {},
   "outputs": [],
   "source": [
    "# Liste des valeurs de k correspondant au nombre de centroïdes (on commence à 2)\n",
    "k_values = range(2, 10)\n",
    "inertias = []  # L'inertie doit être la plus faible possible\n",
    "\n",
    "# Test du modèle avec différents nombres de centroïdes\n",
    "for k in k_values: \n",
    "    kmeans = KMeans(n_clusters=k, random_state=42, n_init=10)\n",
    "    kmeans.fit(X)\n",
    "    inertias.append(kmeans.inertia_)\n",
    "    \n",
    "        \n",
    "# Tracé du graphe\n",
    "plt.plot(k_values, inertias, marker='o')\n",
    "plt.xlabel(\"Nombre de clusters k\")\n",
    "plt.ylabel(\"Inertie\")\n",
    "plt.title(\"Méthode du coude pour choisir k\")\n",
    "plt.show()"
   ]
  },
  {
   "cell_type": "markdown",
   "metadata": {},
   "source": [
    "## 🔬 4. Application à la segmentation des clients\n",
    "\n",
    "📢 **Introduction**\n",
    "\n",
    "Dans cette seconde expérimentation, nous allons appliquer K-Means sur un jeu de données réel représentant des clients d'une entreprise . L'objectif est d'identifier des types de profils en fonction de leurs **revenus mensuels** et **dépenses mensuelles** . Cela permettra, par exemple, à une entreprise de mieux cibler ses offres et services.\n",
    "\n",
    "\n",
    "🔹 **Étapes du travail** :\n",
    "\n",
    "✅ Charger les données client réelles depuis un fichier CSV.\n",
    "\n",
    "✅ Visualiser la répartition des revenus et dépenses des clients.\n",
    "\n",
    "✅ Appliquer K-Means pour identifier différents groupes de clients.\n",
    "\n",
    "✅ Utilisez la méthode du coude pour choisir le nombre optimal de clusters.\n",
    "\n",
    "✅ Analyser les résultats et interpréter les profils détectés."
   ]
  },
  {
   "cell_type": "code",
   "execution_count": null,
   "metadata": {},
   "outputs": [],
   "source": [
    "# Importation des bibliothèques et chargement des données\n",
    "import pandas as pd\n",
    "import numpy as np\n",
    "import matplotlib.pyplot as plt\n",
    "from sklearn.cluster import KMeans\n",
    "\n",
    "# Chargement des données réelles\n",
    "file_path = \"segmentation_clients.csv\"\n",
    "df = pd.read_csv(file_path)\n",
    "\n",
    "# Affichage des premières lignes du jeu de données\n",
    "print(df.head())\n"
   ]
  },
  {
   "cell_type": "code",
   "execution_count": null,
   "metadata": {},
   "outputs": [],
   "source": [
    "# Visualisation des données avant clustering\n",
    "plt.scatter(df['Revenu_Mensuel'], df['Depenses_Mensuelles'], s=50)\n",
    "plt.xlabel(\"Revenu Mensuel\")\n",
    "plt.ylabel(\"Dépenses Mensuelles\")\n",
    "plt.title(\"Données des clients avant clustering\")\n",
    "plt.show()\n"
   ]
  },
  {
   "cell_type": "code",
   "execution_count": null,
   "metadata": {},
   "outputs": [],
   "source": [
    "# Méthode du coude pour choisir le bon k\n",
    "X = df[['Revenu_Mensuel', 'Depenses_Mensuelles']]\n",
    "\n",
    "inertias = []\n",
    "k_values = range(2, 10)\n",
    "\n",
    "# Test du modèle avec différents nombres de centroïdes\n",
    "############## A COMPLETER ####################\n",
    "\n",
    "    \n",
    "plt.plot(k_values, inertias, marker='o')\n",
    "plt.xlabel(\"Nombre de clusters k\")\n",
    "plt.ylabel(\"Inertie\")\n",
    "plt.title(\"Méthode du coude pour choisir k (jeu de données réelles)\")\n",
    "plt.show()\n"
   ]
  },
  {
   "cell_type": "code",
   "execution_count": null,
   "metadata": {},
   "outputs": [],
   "source": [
    "# Application de K-Means avec le bon nombre de cluster\n",
    "############## A COMPLETER ####################\n",
    "\n",
    "\n",
    "# Ajout des labels au DataFrame\n",
    "df['Cluster'] = kmeans.labels_\n"
   ]
  },
  {
   "cell_type": "code",
   "execution_count": null,
   "metadata": {},
   "outputs": [],
   "source": [
    "# Affichage des clusters après application de K-Means\n",
    "plt.scatter(df['Revenu_Mensuel'], df['Depenses_Mensuelles'], c=df['Cluster'], cmap='viridis', s=50, alpha=0.7)\n",
    "plt.scatter(kmeans.cluster_centers_[:, 0], kmeans.cluster_centers_[:, 1], c='red', marker='x', s=200, label='Centroïdes')\n",
    "plt.xlabel(\"Revenu Mensuel\")\n",
    "plt.ylabel(\"Dépenses Mensuelles\")\n",
    "plt.title(\"Segmentation des clients avec K-Means\")\n",
    "plt.legend()\n",
    "plt.show()\n"
   ]
  },
  {
   "cell_type": "markdown",
   "metadata": {},
   "source": [
    "### 🎯 Questions pour aller plus loin\n",
    "\n",
    "1. Exécuter les deux premières cellules. Observer la répartition des données et conjecturer le nombre de centroïdes à utiliser.\n",
    "2. A l'aide de la méthode du coude, vérifier qu'effectivement *k = 3*\n",
    "3. Compléter le programme et en déduire les 3 classes de clients."
   ]
  }
 ],
 "metadata": {
  "kernelspec": {
   "display_name": "Python 3 (ipykernel)",
   "language": "python",
   "name": "python3"
  },
  "language_info": {
   "codemirror_mode": {
    "name": "ipython",
    "version": 3
   },
   "file_extension": ".py",
   "mimetype": "text/x-python",
   "name": "python",
   "nbconvert_exporter": "python",
   "pygments_lexer": "ipython3",
   "version": "3.9.7"
  }
 },
 "nbformat": 4,
 "nbformat_minor": 4
}
