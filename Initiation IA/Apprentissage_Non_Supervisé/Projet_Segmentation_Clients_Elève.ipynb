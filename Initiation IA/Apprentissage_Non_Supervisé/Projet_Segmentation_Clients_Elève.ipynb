{
 "cells": [
  {
   "cell_type": "markdown",
   "id": "47372779",
   "metadata": {},
   "source": [
    "# 🏦 Projet NSI – Prédire la segmentation de clients dans un hypermarché\n",
    "\n",
    "## 🎯 Objectifs du projet\n",
    "- Utiliser **PCA** pour visualiser des données client en 2D\n",
    "- Comparer deux méthodes de clustering : **K-Means** et **DBSCAN**\n",
    "- Choisir visuellement celle qui segmente le mieux les clients\n",
    "- Identifier les groupes de clients ayant des comportements d'achat similaires"
   ]
  },
  {
   "cell_type": "markdown",
   "id": "56124266",
   "metadata": {},
   "source": [
    "## 📁 Etape 1 : Jeu de données simulé\n",
    "- Charger le fichier `clients_hypermarche.csv`\n",
    "- Afficher les 5 premières lignes"
   ]
  },
  {
   "cell_type": "code",
   "execution_count": null,
   "id": "b9782bdf",
   "metadata": {},
   "outputs": [],
   "source": [
    "# Installation des bibliothèques\n",
    "!pip install pandas numpy scikit-learn matplotlib seaborn"
   ]
  },
  {
   "cell_type": "code",
   "execution_count": 1,
   "id": "fc17b066",
   "metadata": {},
   "outputs": [],
   "source": [
    "############### A COMPLETER ICI ###################\n"
   ]
  },
  {
   "cell_type": "markdown",
   "id": "c0259642",
   "metadata": {},
   "source": [
    "## 🧹  Etape 2 : Prétraitement et PCA\n",
    "- Encoder les variables qualitatives (`LabelEncoder`, `get_dummies`)\n",
    "- Standardiser les données avec `StandardScaler`\n",
    "- Appliquer le PCA avec **un nombre de composantes à déterminer**\n",
    " \n",
    " 💡 <u>*Aide*</u> : utilisez `explained_variance_ratio_` pour justifier votre choix.\n",
    "    \n",
    "    \n",
    "- Réduire la dimension avec **PCA** selon l'objectif visé (2 ou 3 composantes)\n",
    "- Afficher la **variance expliquée** et un **nuage de points 2D** des clients"
   ]
  },
  {
   "cell_type": "code",
   "execution_count": null,
   "id": "21d34e84",
   "metadata": {},
   "outputs": [],
   "source": [
    "############### A COMPLETER ICI ###################\n",
    "# À compléter : encodage, standardisation, PCA"
   ]
  },
  {
   "cell_type": "markdown",
   "id": "a249c096",
   "metadata": {},
   "source": [
    "## 🔍  Etape 3 : Comparaison qualitative des méthodes\n",
    "\n",
    "💡 L'objectif est de **décider visuellement quel algorithme (K-Means ou DBSCAN) est le plus adapté** au jeu de données.\n",
    "\n",
    "\n",
    "| Critère                         | K-Means                         | DBSCAN                                   |\n",
    "|---------------------------------|----------------------------------|-------------------------------------------|\n",
    "| Type de clusters                | Formes arrondies                 | Formes libres, densité variable           |\n",
    "| Nombre de clusters              | Doit être défini à l'avance      | Estimé automatiquement                   |\n",
    "| Sensibilité aux outliers        | ⚠️ Très sensible                 | ✅ Tolère bien les points isolés (bruit)  |\n",
    "| Paramètres clés                 | `n_clusters` (k)                 | `eps`, `min_samples`                     |\n",
    "| Interprétation des résultats    | Plus simple                      | Plus difficile                            |\n",
    "\n",
    "- Appliquer **K-Means** avec un k choisi à l’œil (ex : 3 ou 4)\n",
    "- Appliquer **DBSCAN** avec des paramètres raisonnables (ex : `eps=1.0`, `min_samples=5`)\n",
    "- Afficher les **deux segmentations** sur les mêmes données réduites.\n",
    "\n",
    "➡️ **Comparer visuellement** les regroupements : quelles formes ? quels niveaux de bruit ?"
   ]
  },
  {
   "cell_type": "code",
   "execution_count": null,
   "id": "8b8eafb8",
   "metadata": {},
   "outputs": [],
   "source": [
    "############### A COMPLETER ICI ###################\n",
    "# À compléter : appliquer K-Means et DBSCAN, tracer les graphes"
   ]
  },
  {
   "cell_type": "markdown",
   "id": "da5faf3e",
   "metadata": {},
   "source": [
    "## 📊  Etape 4 (*) : Interprétation des clusters\n",
    "\n",
    "💡 **Remarque importante sur le PCA :**\n",
    "\n",
    "- Le PCA permet de réduire la dimension des données tout en conservant un maximum d'information.\n",
    "- Si 2 ou 3 composantes n'expliquent pas assez de variance (ex : < 70 %), il est recommandé d'utiliser **davantage de composantes** (ex : 6 à 8).\n",
    "\n",
    "👉 Même si cela rend la **visualisation impossible**, on peut tout à fait appliquer **K-Means / DBSCAN** dans cet espace réduit, car le PCA améliore souvent la séparation des groupes.\n",
    "\n",
    "\n",
    "🔍 **Attention : le choix du nombre de composantes PCA peut changer les résultats !**\n",
    "\n",
    "- En ajoutant une composante supplémentaire (ex : passer de 6 à 7), les **axes de séparation changent**, ce qui peut modifier :\n",
    "    - La structure des données dans l’espace réduit\n",
    "    - Le regroupement trouvé par K-Means / DBSCAN\n",
    "    - Les moyennes des variables dans chaque cluster\n",
    "- Il est alors utile de **réévaluer les bons nombres de clusters** ou les **meilleurs couples** avec la méthode appropriée. \n",
    "\n",
    "💡 Cela montre que **le choix du nombre de composantes n’est pas neutre** et peut avoir un impact significatif sur l’analyse.\n",
    "\n",
    "\n",
    "\n",
    "**<u>A faire</u>** :\n",
    "- Appliquer le PCA avec un *nombre de composants cohérent* puis l'algorithme sélectionné (K_Means / DBSCAN) avec des *paramètres plausibles*.\n",
    "- Ajouter les numéros de clusters au DataFrame\n",
    "- Créer des **boxplots** pour `Frequence_de_visite`, `Montant_moyen_mensuel`, `Durée_moyenne_visite`\n",
    "- Créer des **barplots** pour les variables catégorielles\n",
    "\n",
    "➡️ Si on observe des variations importantes (ex : avec `k=3` entre PCA(6) et PCA(7) par exemple), cela signifie que **K-Means est sensible à la structure exacte de l'espace réduit**, et que le nombre de clusters n'est peut-être **pas optimal** \n",
    "\n",
    "🔄 Dans ce cas, on peut :\n",
    "- Re-tester avec un `k` différent (ex : `k=4`)\n",
    "- Réexaminer si les groupes sont mieux séparés visuellement entre les PCA.\n",
    "\n",
    "\n",
    "➡️ En déduire le **profil des segments** : *clients occasionnels, fidèles, gros acheteurs*, etc."
   ]
  },
  {
   "cell_type": "code",
   "execution_count": null,
   "id": "137543b9",
   "metadata": {},
   "outputs": [],
   "source": [
    "############### A COMPLETER ICI ###################\n",
    "# À compléter : visualiser les clusters avec seaborn"
   ]
  }
 ],
 "metadata": {
  "kernelspec": {
   "display_name": "Python 3 (ipykernel)",
   "language": "python",
   "name": "python3"
  },
  "language_info": {
   "codemirror_mode": {
    "name": "ipython",
    "version": 3
   },
   "file_extension": ".py",
   "mimetype": "text/x-python",
   "name": "python",
   "nbconvert_exporter": "python",
   "pygments_lexer": "ipython3",
   "version": "3.9.7"
  }
 },
 "nbformat": 4,
 "nbformat_minor": 5
}
